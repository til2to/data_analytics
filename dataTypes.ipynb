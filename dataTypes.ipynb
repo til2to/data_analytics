{
 "cells": [
  {
   "cell_type": "markdown",
   "id": "1971db0e",
   "metadata": {},
   "source": [
    "### Q1\n",
    "List the basic data types in python and give one example each."
   ]
  },
  {
   "cell_type": "markdown",
   "id": "5db1381f",
   "metadata": {},
   "source": []
  },
  {
   "cell_type": "code",
   "execution_count": null,
   "id": "970d216c",
   "metadata": {},
   "outputs": [],
   "source": [
    "# 1. booleans\n",
    "# 2. strings\n",
    "# 3. integers\n",
    "# 4. float"
   ]
  },
  {
   "cell_type": "markdown",
   "id": "4a2be5ba",
   "metadata": {},
   "source": [
    "### Q2\n",
    "Change the variable x = 4539.85 to :\n",
    "\n",
    "(i) a string and assign it to a new variable y,\n",
    "\n",
    "(ii) an integer and assign it to a new variable z\n",
    "\n",
    "Print out the type of y and z."
   ]
  },
  {
   "cell_type": "code",
   "execution_count": null,
   "id": "4f69aaca",
   "metadata": {},
   "outputs": [],
   "source": [
    "x = 4539.85\n",
    "\n",
    "# x to string\n",
    "y = str(x)\n",
    "# x to an integer\n",
    "z = int(x)"
   ]
  },
  {
   "cell_type": "markdown",
   "id": "81a1251c",
   "metadata": {},
   "source": [
    "### Q3\n",
    "\n",
    "What data type would you use to store\n",
    "\n",
    "a. The price of car?\n",
    "\n",
    "b. The age of a person\n",
    "\n",
    "c. car plate number: plateNumber = \"AV01-AFP\"?\n",
    "\n",
    "d. The price of fuel\n",
    "\n",
    "e. The number of students in the class\n",
    "\n",
    "f. The weight of a person\n",
    "\n",
    "g. Check whether two figures are equal\n",
    "\n",
    "i. The name of a  school\n",
    "\n",
    "j. The average result of the overall score of a student\n",
    "\n",
    "k. The total number of vote cast\n",
    "\n"
   ]
  },
  {
   "cell_type": "code",
   "execution_count": null,
   "id": "388559b7",
   "metadata": {},
   "outputs": [],
   "source": [
    "# a. float\n",
    "# b. integer\n",
    "# c. dictionary\n",
    "# d. float\n",
    "# e. int\n",
    "# f. float\n",
    "# g. boolean\n",
    "# i. string\n",
    "# j. float\n",
    "# k. int"
   ]
  },
  {
   "cell_type": "markdown",
   "id": "f0694362",
   "metadata": {},
   "source": [
    "### Q4\n",
    "**Thomas Partey is arguably the best player in the Black Stars. He is a great addition to the team**\n",
    "\n",
    "Split the statement above into **two statement_1** and **statement_2** such that statement_1 will be 'Thomas Partey is arguably the best player in the Black Stars' and statement_2 will be 'He is a great addition to the team'\n",
    "\n",
    "Statement:\n",
    "\n",
    "- **What is the length of statment 1?**\n",
    "-**What is the length of statment 2?**\n",
    "-**Is the length of statement 1 greater than statement 2**"
   ]
  },
  {
   "cell_type": "code",
   "execution_count": 2,
   "id": "fe09b61a",
   "metadata": {},
   "outputs": [
    {
     "data": {
      "text/plain": [
       "False"
      ]
     },
     "execution_count": 2,
     "metadata": {},
     "output_type": "execute_result"
    }
   ],
   "source": [
    "full_statement = 'Thomas Partey is arguably the best player in the Black Stars. He is a great addition to the team'\n",
    "# split statement into two parts\n",
    "both_statement = full_statement.split('.')\n",
    "statement_1 = both_statement[0]\n",
    "statement_2 = both_statement[1]\n",
    "# calculate length of statements\n",
    "lengthStatement_1 = len(statement_1)\n",
    "lengthStatement_2 = len(statement_2)\n",
    "# which statement is greater\n",
    "lengthStatement_1 < lengthStatement_2"
   ]
  },
  {
   "cell_type": "markdown",
   "id": "ceb46447",
   "metadata": {},
   "source": [
    "### Q5\n",
    "What values does python use to represent **True** and **False** respectively?"
   ]
  },
  {
   "cell_type": "code",
   "execution_count": null,
   "id": "929b08a4",
   "metadata": {},
   "outputs": [],
   "source": [
    "1 and 0"
   ]
  },
  {
   "cell_type": "markdown",
   "id": "e4cc9b15",
   "metadata": {},
   "source": [
    "### Q6\n",
    "Write a code to evaluate if the following statments are True or False.\n",
    "\n",
    "1. 78 is greater than 46 and less than 30 which is an odd number.\n",
    "\n",
    "2. 8-2 is an even number or 8 is a is an odd number.\n",
    "\n",
    "3. The number of characters in the word 'boostrap' is 7 and that of 'sample' is 6."
   ]
  },
  {
   "cell_type": "code",
   "execution_count": null,
   "id": "3f5a755e",
   "metadata": {},
   "outputs": [],
   "source": [
    "# statement 1\n",
    "if 78 > 46 and 78 < 30 and 30 % 2 != 0:\n",
    "    print(\"Statement 1 is true\")\n",
    "else:\n",
    "    print(\"Statement 1 is false\")\n",
    "\n",
    "# statement 2\n",
    "if (8-2) % 2 == 0 or 8 % 2 != 0:\n",
    "    print(\"Statement 2 is true\")\n",
    "else:\n",
    "    print(\"Statement 2 is false\")\n",
    "\n",
    "# statement 3\n",
    "if len('bootstrap') == 7 and len('sample') == 6:\n",
    "    print(\"Statement 3 is true\")\n",
    "else:\n",
    "    print(\"Statement 3 is false\")"
   ]
  },
  {
   "cell_type": "code",
   "execution_count": null,
   "id": "806025f8",
   "metadata": {},
   "outputs": [],
   "source": [
    "# statement 1\n",
    "statement = 78 > 46 and 78 < 30 and 30 % 2 == 1\n",
    "# Evaluate the statement\n",
    "if statement:\n",
    "    print(\"The statement is True.\")\n",
    "else:\n",
    "    print(\"The statement is False.\")\n",
    "\n",
    "# statement 2\n"
   ]
  },
  {
   "cell_type": "markdown",
   "id": "bc13f9fc",
   "metadata": {},
   "source": [
    "### Q7\n",
    "Given the following python code,\n",
    "\n",
    "`word='Hello, How are you?'`\n",
    "\n",
    "Write Python code to return the following\n",
    "\n",
    "- How\n",
    "- How are you\n",
    "- are\n",
    "- ?\n",
    "- Hello, How are you\n",
    "\n",
    "\n",
    " "
   ]
  },
  {
   "cell_type": "code",
   "execution_count": 8,
   "id": "c98d986e",
   "metadata": {},
   "outputs": [
    {
     "name": "stdout",
     "output_type": "stream",
     "text": [
      "Hello, How are you\n"
     ]
    }
   ],
   "source": [
    "word = 'Hello, How are you?'\n",
    "\n",
    "how = word[7:10]\n",
    "how_are_you = word[7:-1]\n",
    "are = word[-8:-5]\n",
    "question_mark = word[-1]\n",
    "all_except_last = word[0:-1]"
   ]
  },
  {
   "cell_type": "markdown",
   "id": "e4167de5",
   "metadata": {},
   "source": [
    "### Q8\n",
    "Given the following python code,\n",
    "\n",
    "`sentence = \"I am very excited\"`\n",
    "\n",
    "Write Python code to return \n",
    "- Convert sentence to upper case\n",
    "- Convert sentence to lower case\n",
    "- Convert sentence to title case\n",
    "- Convert sentence to list of strings\n",
    " "
   ]
  },
  {
   "cell_type": "code",
   "execution_count": 12,
   "id": "bc71c540",
   "metadata": {},
   "outputs": [
    {
     "name": "stdout",
     "output_type": "stream",
     "text": [
      "['I', 'am', 'very', 'excited']\n"
     ]
    }
   ],
   "source": [
    "sentence = \"I am very excited\"\n",
    "# to upper case\n",
    "upperCase = sentence.upper()\n",
    "# to lower case\n",
    "lowerCase = sentence.lower()\n",
    "# to title case\n",
    "titleCase = sentence.title()\n",
    "# to list of strings\n",
    "list_of_strings = sentence.split()"
   ]
  },
  {
   "cell_type": "markdown",
   "id": "4faf0134",
   "metadata": {},
   "source": [
    "### Q9\n",
    "`word = 'OneThirtyEight'`\n",
    "\n",
    "Using Python code extract the following from the variable word:\n",
    "- One\n",
    "- Thirty\n",
    "- Eight\n",
    "- OneThirty\n",
    "- ThirtyEight\n",
    "- ONETHIRTYEIGHT"
   ]
  },
  {
   "cell_type": "code",
   "execution_count": 18,
   "id": "7e29a1df",
   "metadata": {},
   "outputs": [
    {
     "name": "stdout",
     "output_type": "stream",
     "text": [
      "OneThirtyEight\n"
     ]
    }
   ],
   "source": [
    "word = 'OneThirtyEight'\n",
    "\n",
    "one = word[0:3]\n",
    "thirty = word[3:9]\n",
    "oneThirty = word[0:9]\n",
    "thirtyEight = word[3:]\n",
    "oneThirtyEight = word[:]"
   ]
  },
  {
   "cell_type": "markdown",
   "id": "2a4eea1f",
   "metadata": {},
   "source": [
    "### Q10\n",
    "Turn Ault'Kelly into a string and assign it to a variable  called name."
   ]
  },
  {
   "cell_type": "code",
   "execution_count": null,
   "id": "c90b5f1f",
   "metadata": {},
   "outputs": [],
   "source": [
    "name = \"Ault'Kelly\""
   ]
  }
 ],
 "metadata": {
  "kernelspec": {
   "display_name": "Python 3.8.5 ('base')",
   "language": "python",
   "name": "python3"
  },
  "language_info": {
   "codemirror_mode": {
    "name": "ipython",
    "version": 3
   },
   "file_extension": ".py",
   "mimetype": "text/x-python",
   "name": "python",
   "nbconvert_exporter": "python",
   "pygments_lexer": "ipython3",
   "version": "3.8.5"
  },
  "vscode": {
   "interpreter": {
    "hash": "967c80d328026d84c75de947f46e837f31c4a768767a02a80f5a04f8074d0bda"
   }
  }
 },
 "nbformat": 4,
 "nbformat_minor": 5
}
