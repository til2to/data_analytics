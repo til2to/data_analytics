{
 "cells": [
  {
   "cell_type": "markdown",
   "id": "3c2e90df",
   "metadata": {},
   "source": [
    "### Q1\n",
    "\n",
    "Name the four built-in data structures in python. Give one examples for each"
   ]
  },
  {
   "cell_type": "code",
   "execution_count": 40,
   "id": "2a7de366",
   "metadata": {},
   "outputs": [],
   "source": [
    "# 1. strings\n",
    "# 2. integer\n",
    "# 3. float\n",
    "# 4. boolean"
   ]
  },
  {
   "cell_type": "markdown",
   "id": "b6e1dd1b",
   "metadata": {},
   "source": [
    "### Q2\n",
    "\n",
    "State two differences between a list and a tuple in Python."
   ]
  },
  {
   "cell_type": "code",
   "execution_count": null,
   "id": "ce87927c",
   "metadata": {},
   "outputs": [],
   "source": [
    "# 1. list is mutable but tuples are not mutable\n",
    "# 2. A list is defined using square bracket whereas tuple is defined by using parenthesis"
   ]
  },
  {
   "cell_type": "markdown",
   "id": "815b4e67",
   "metadata": {},
   "source": [
    "### Q3\n",
    "Make a list containing names of five animals with a variable name `animal_list`\n",
    "\n",
    "Write a code for the following:\n",
    "- Print the first two animals\n",
    "- Print the last two animals\n",
    "- Add three extra animals to the variable `animal_list`\n",
    "- Remove the first two animals from the variable `animal_list`\n",
    "- How many animals are in the `animal_list`?\n",
    "- Create a variable animal_set which stores the set of animal_list \n",
    "- How many elements are in the animal_set?\n"
   ]
  },
  {
   "cell_type": "code",
   "execution_count": null,
   "id": "592c842b",
   "metadata": {},
   "outputs": [
    {
     "name": "stdout",
     "output_type": "stream",
     "text": [
      "5\n",
      "['hen', 'cow']\n",
      "6\n"
     ]
    }
   ],
   "source": [
    "animal_list = ['cat', 'dog', 'rat', 'hen', 'cow']\n",
    "print(len(animal_list))\n",
    "print(animal_list[3:5])\n",
    "animal_list = ['cat', 'dog', 'rat', 'hen', 'cow', 'mosquito', 'mouse', 'python']\n",
    "animal_list = animal_list[2:]\n",
    "\n",
    "animal_set = animal_list\n",
    "print(len(animal_set))"
   ]
  },
  {
   "cell_type": "markdown",
   "id": "113c9970",
   "metadata": {},
   "source": [
    "### Q4\n",
    "\n",
    "Given a list:\n",
    "\n",
    "suitcase = [\"sunglasses\", \"hat\", \"passport\", \"laptop\", \"suit\", \"shoes\"]\n",
    "\n",
    "a. Create a list called first containing only the two first items from suitcase.\n",
    "\n",
    "b. Create a list called middle containing only the two middle items from suitcase.\n",
    "\n",
    "c. Create a list called last made up only of the last two items from suitcase."
   ]
  },
  {
   "cell_type": "code",
   "execution_count": null,
   "id": "6c90ef14",
   "metadata": {},
   "outputs": [
    {
     "name": "stdout",
     "output_type": "stream",
     "text": [
      "['sunglasses', 'hat']\n",
      "['passport', 'laptop']\n",
      "['suit', 'shoes']\n"
     ]
    }
   ],
   "source": [
    "suitcase = ['sunglasses', 'hat', 'passport', 'laptop', 'suit', 'shoes']\n",
    "first = suitcase[0:2]\n",
    "print(first)\n",
    "\n",
    "middle = suitcase[2:4]\n",
    "print(middle)\n",
    "\n",
    "last = suitcase[4:6]\n",
    "print(last)"
   ]
  },
  {
   "cell_type": "markdown",
   "id": "711ba044",
   "metadata": {},
   "source": [
    "### Q5\n",
    "Write a python code to insert 35 into the list below. Make sure it is inserted in the right position to maintain the order of the data.\n",
    "\n",
    "`values = [20,25,30,40,45,50,55,60,65,70]`"
   ]
  },
  {
   "cell_type": "code",
   "execution_count": 9,
   "id": "10f1a17d",
   "metadata": {},
   "outputs": [
    {
     "name": "stdout",
     "output_type": "stream",
     "text": [
      "[20, 25, 30, 35, 40, 45, 50, 55, 60, 65, 70]\n"
     ]
    }
   ],
   "source": [
    "values = [20,25,30,40,45,50,55,60,65,70]\n",
    "values.append(35)\n",
    "values.sort()\n"
   ]
  },
  {
   "cell_type": "markdown",
   "id": "f535cf64",
   "metadata": {},
   "source": [
    "### Q6\n",
    "\n",
    "Given that Python lists and Python tuples are quite similar – when might you prefer to use a tuple over a list?"
   ]
  },
  {
   "cell_type": "code",
   "execution_count": null,
   "id": "b62263e5",
   "metadata": {},
   "outputs": [],
   "source": [
    "# when you want your data to be immutable"
   ]
  },
  {
   "cell_type": "markdown",
   "id": "346927f6",
   "metadata": {},
   "source": [
    "### Q7\n",
    "Create a dictionary with 5 Ghana regions and their capitals and store it in the variable `region_capital`\n",
    "\n",
    "- Print out the keys of region_capital\n",
    "- Print out the values of region_capital\n"
   ]
  },
  {
   "cell_type": "code",
   "execution_count": null,
   "id": "cf120da0",
   "metadata": {},
   "outputs": [
    {
     "name": "stdout",
     "output_type": "stream",
     "text": [
      "GA\n",
      "GK\n",
      "ER\n",
      "CR\n",
      "WR\n",
      "\n",
      "Accra\n",
      "kumasi\n",
      "koforidua\n",
      "cape coast\n",
      "Takoradi\n"
     ]
    }
   ],
   "source": [
    "region_capital = {'GA':'Accra', 'GK':'kumasi', 'ER':'koforidua', 'CR':'cape coast', 'WR': 'Takoradi'}\n",
    "for key in region_capital:\n",
    "  print (x)\n",
    "\n",
    "print('')\n",
    "\n",
    "for y in region_capital:\n",
    "  print(region_capital[y])"
   ]
  },
  {
   "cell_type": "markdown",
   "id": "70526b3b",
   "metadata": {},
   "source": [
    "### Q8\n",
    "\n",
    "`values = [3,4,5,6,3,4,3,5,2,4,2,5,6,1,6]`\n",
    "\n",
    "Using the codes above answer the following questions:\n",
    "- What is the total number of elements in values?\n",
    "- What is the highest occuring number in the values variable?\n",
    "- Convert values into a set and store it into a variable named `values_set`\n",
    "- How many elements are in the variable values_set?\n"
   ]
  },
  {
   "cell_type": "code",
   "execution_count": 8,
   "id": "988f0568",
   "metadata": {},
   "outputs": [
    {
     "name": "stdout",
     "output_type": "stream",
     "text": [
      "3\n",
      "6\n"
     ]
    }
   ],
   "source": [
    "elements = [3,4,5,6,3,4,3,5,2,4,2,5,6,1,6,3]\n",
    "total_elements = len(elements)\n",
    "\n",
    "frequency = {}\n",
    "check_mode = []\n",
    "for key in elements:\n",
    "  if key in frequency:\n",
    "    frequency[key] += 1;\n",
    "  else:\n",
    "    frequency[key] = 1;\n",
    "\n",
    "max_freq = 0\n",
    "mode = None;\n",
    "for key in frequency:\n",
    "  if frequency[key] > max_freq:\n",
    "    max_freq = frequency[key]\n",
    "    mode = key\n",
    "print(mode)\n",
    "#the mode is 3\n",
    "\n",
    "values_set = set(elements)\n",
    "\n",
    "num_of_elements = len(values_set)\n",
    "print(num_of_elements)"
   ]
  },
  {
   "cell_type": "markdown",
   "id": "801d5876",
   "metadata": {},
   "source": [
    "### Q9\n",
    "Write a Python script to print a dictionary where the keys are numbers between 1 and 15 (both included) and the values are the square of the keys."
   ]
  },
  {
   "cell_type": "code",
   "execution_count": 42,
   "id": "9c6321fc",
   "metadata": {},
   "outputs": [
    {
     "name": "stdout",
     "output_type": "stream",
     "text": [
      "{1: 1, 2: 4, 3: 9, 4: 16, 5: 25, 6: 36, 7: 49, 8: 64, 9: 81, 10: 100, 11: 121, 12: 144, 13: 169, 14: 196, 15: 225, 16: 256}\n"
     ]
    }
   ],
   "source": [
    "elements = {}\n",
    "for key in range(1, 17):\n",
    "  elements[key] = key ** 2\n",
    "print(elements)"
   ]
  },
  {
   "cell_type": "markdown",
   "id": "18954e57",
   "metadata": {},
   "source": [
    "### Q10\n",
    "Write a Python program to create a dictionary of keys x, y, and z where each key has as value a list from 11-20, 21-30, and 31-40 respectively. Access the fifth value of each key from the dictionary."
   ]
  },
  {
   "cell_type": "code",
   "execution_count": 46,
   "id": "fec19820",
   "metadata": {},
   "outputs": [
    {
     "name": "stdout",
     "output_type": "stream",
     "text": [
      "{'x': [11, 12, 13, 14, 15, 16, 17, 18, 19, 20], 'y': [21, 22, 23, 24, 25, 26, 27, 28, 29, 30], 'z': [31, 32, 33, 34, 35, 36, 37, 38, 39, 40]}\n",
      "{'x': [11, 12, 13, 14, 15, 16, 17, 18, 19, 20], 'y': [21, 22, 23, 24, 25, 26, 27, 28, 29, 30], 'z': [31, 32, 33, 34, 35, 36, 37, 38, 39, 40]}\n"
     ]
    }
   ],
   "source": [
    "dict_list = {}\n",
    "dict_list['x'] = [num for num in range(11, 21)]\n",
    "dict_list['y'] = [num for num in range(21, 31)]\n",
    "dict_list['z'] = [num for num in range(31, 41)]\n",
    "\n",
    "# newDict = {'x': list(range(11,21)), 'y': list(range(21,31)), 'z': list(range(31, 41))}\n",
    "\n",
    "print(dict_list)"
   ]
  },
  {
   "cell_type": "code",
   "execution_count": null,
   "id": "02ab49b0",
   "metadata": {},
   "outputs": [],
   "source": []
  }
 ],
 "metadata": {
  "kernelspec": {
   "display_name": "Python 3.8.5 ('base')",
   "language": "python",
   "name": "python3"
  },
  "language_info": {
   "codemirror_mode": {
    "name": "ipython",
    "version": 3
   },
   "file_extension": ".py",
   "mimetype": "text/x-python",
   "name": "python",
   "nbconvert_exporter": "python",
   "pygments_lexer": "ipython3",
   "version": "3.8.5"
  },
  "vscode": {
   "interpreter": {
    "hash": "967c80d328026d84c75de947f46e837f31c4a768767a02a80f5a04f8074d0bda"
   }
  }
 },
 "nbformat": 4,
 "nbformat_minor": 5
}
